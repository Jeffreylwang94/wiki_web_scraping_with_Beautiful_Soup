{
 "cells": [
  {
   "cell_type": "code",
   "execution_count": 28,
   "id": "d27fd298-d483-4d89-beaf-d2736ca97bf4",
   "metadata": {},
   "outputs": [],
   "source": [
    "## Code taken from https://www.geeksforgeeks.org/web-scraping-from-wikipedia-using-python-a-complete-guide/\n",
    "\n",
    "# import required modules\n",
    "from bs4 import BeautifulSoup\n",
    "import requests\n",
    "\n",
    "# get URL\n",
    "page = requests.get(\"https://taskmaster.fandom.com/wiki/Series_1\")\n",
    "\n",
    "# scrape webpage\n",
    "soup = BeautifulSoup(page.content, 'html.parser')\n",
    "\n",
    "# list(soup.children)\n",
    "\n",
    "# find all occurrence of p in HTML\n",
    "# includes HTML tags\n",
    "# print(soup.find_all('p'))\n",
    "\n",
    "# print('\\n\\n')\n",
    "\n",
    "# return only text\n",
    "# does not include HTML tags\n",
    "# print(soup.find_all('p')[0].get_text())\n"
   ]
  },
  {
   "cell_type": "code",
   "execution_count": null,
   "id": "3ea1dbba-d10a-4dd0-8130-e76ff42a6de4",
   "metadata": {},
   "outputs": [],
   "source": []
  },
  {
   "cell_type": "code",
   "execution_count": 26,
   "id": "db84790d-745e-4cf9-8197-d1b149ec804a",
   "metadata": {},
   "outputs": [
    {
     "data": {
      "text/plain": [
       "'Series:1 • 2 • 3 • 4 • 5 • CoC • 6 • 7 • 8 • 9 • 10 • NYT • 11 • 12 • NYT II • 13  • CoC II • 14 • NYT III • 15 • 16 • NYT IV • CoC III • 17\\n'"
      ]
     },
     "execution_count": 26,
     "metadata": {},
     "output_type": "execute_result"
    }
   ],
   "source": [
    "soup.find_all('p')[0].get_text()"
   ]
  },
  {
   "cell_type": "code",
   "execution_count": null,
   "id": "78b1a722-b879-4695-83ee-d522e230a47d",
   "metadata": {},
   "outputs": [],
   "source": []
  },
  {
   "cell_type": "code",
   "execution_count": 33,
   "id": "ccfb957a-8bf9-4cd0-a649-8e5835f1bb48",
   "metadata": {},
   "outputs": [
    {
     "data": {
      "text/plain": [
       "bs4.element.ResultSet"
      ]
     },
     "execution_count": 33,
     "metadata": {},
     "output_type": "execute_result"
    }
   ],
   "source": [
    "type(soup.find_all('a'))\n"
   ]
  },
  {
   "cell_type": "code",
   "execution_count": null,
   "id": "c5841d37-ddd5-416e-9c58-5f85176b9d17",
   "metadata": {},
   "outputs": [],
   "source": []
  },
  {
   "cell_type": "code",
   "execution_count": null,
   "id": "1e1087d3-61ea-41ed-9257-469ff7351ddf",
   "metadata": {},
   "outputs": [],
   "source": []
  },
  {
   "cell_type": "code",
   "execution_count": null,
   "id": "9549c380-e755-407f-81a2-44987a5ef699",
   "metadata": {},
   "outputs": [],
   "source": [
    "\n"
   ]
  },
  {
   "cell_type": "code",
   "execution_count": null,
   "id": "3246fe10-c06d-4115-996f-8a3a80933e72",
   "metadata": {},
   "outputs": [],
   "source": []
  },
  {
   "cell_type": "code",
   "execution_count": null,
   "id": "42441cf7-6495-4ff1-8b18-933f7f8f69aa",
   "metadata": {},
   "outputs": [],
   "source": []
  },
  {
   "cell_type": "code",
   "execution_count": null,
   "id": "3565a34d-80c4-4076-a725-7a42d8629152",
   "metadata": {},
   "outputs": [],
   "source": []
  },
  {
   "cell_type": "code",
   "execution_count": null,
   "id": "4b29fbb9-7b6d-491f-bb83-2b2fbe99e3cb",
   "metadata": {},
   "outputs": [],
   "source": []
  },
  {
   "cell_type": "code",
   "execution_count": null,
   "id": "e85c478a-b4db-4466-b763-1c04084d17af",
   "metadata": {},
   "outputs": [],
   "source": []
  },
  {
   "cell_type": "code",
   "execution_count": null,
   "id": "ed0296e7-cc0e-4f44-95b3-e0825c21d8e6",
   "metadata": {},
   "outputs": [],
   "source": []
  },
  {
   "cell_type": "code",
   "execution_count": null,
   "id": "0a70b5e4-d6b4-4f45-92e4-a61c2c9fa1b8",
   "metadata": {},
   "outputs": [],
   "source": []
  },
  {
   "cell_type": "code",
   "execution_count": null,
   "id": "8d5a9089-a538-4106-8dce-6172db523b02",
   "metadata": {},
   "outputs": [],
   "source": []
  },
  {
   "cell_type": "code",
   "execution_count": null,
   "id": "e2c1e734-324c-43c0-b4bc-6548f0473556",
   "metadata": {},
   "outputs": [],
   "source": []
  }
 ],
 "metadata": {
  "kernelspec": {
   "display_name": "Python 3 (ipykernel)",
   "language": "python",
   "name": "python3"
  },
  "language_info": {
   "codemirror_mode": {
    "name": "ipython",
    "version": 3
   },
   "file_extension": ".py",
   "mimetype": "text/x-python",
   "name": "python",
   "nbconvert_exporter": "python",
   "pygments_lexer": "ipython3",
   "version": "3.9.7"
  }
 },
 "nbformat": 4,
 "nbformat_minor": 5
}
